{
 "cells": [
  {
   "cell_type": "raw",
   "metadata": {},
   "source": [
    "NASA ASTEROID PREDICTION\n",
    "DATASET FROM  KAGGLE\n",
    "TOPICS TO BE COVERED:\n",
    "1.KNN\n",
    "2.SVC\n",
    "3.RANDOM FOREST CLASSIFIER\n",
    "4.ADA BOOST\n",
    "5.GRADIENT BOSSTING\n",
    "6.XG BOOST\n",
    "7.FEATURE SELECTION,CROSS VALIDATION ,HYPERPARAMETER TUNING,RUC AUC GRAPH FOR ALL THE MODELS\n",
    "8.ARTIFICAL NEURAL NETWORK (DEEP LEARNING)\n"
   ]
  },
  {
   "cell_type": "code",
   "execution_count": 2,
   "metadata": {},
   "outputs": [],
   "source": [
    "#Importing library\n",
    "\n",
    "import pandas as pd\n",
    "import matplotlib.pyplot as plt\n",
    "import numpy as np\n",
    "import seaborn as sns\n",
    "\n",
    "from sklearn import metrics\n",
    "\n",
    "#importing datset\n",
    "dataset=pd.read_csv(\"nasa.csv\")\n",
    "\n",
    "# import time for comparing Tuning methods\n",
    "from time import time\n",
    "start=0\n",
    "#droping dataset coloumns\n",
    "dataset.drop( ['Close Approach Date'], axis = 1, inplace = True)\n",
    "dataset.drop( ['Orbiting Body'], axis = 1, inplace = True)\n",
    "dataset.drop( ['Orbit Determination Date'], axis = 1, inplace = True)\n",
    "dataset.drop( ['Equinox'], axis = 1, inplace = True)\n",
    "\n",
    "dataset.drop(dataset.iloc[:,[0,1,2,4,5,6,7,8,9,10,11,12,13,14,16,17,18,19,20,21,22,23,24,25,26,27,28,29,30,31,32,33,34]],axis=1, inplace = True)\n",
    "\n",
    "\n",
    "#data conversion into dependent and target varible \n",
    "X = dataset.iloc[:,:-1]\n",
    "Y = dataset.iloc[:,-1]\n",
    "\n",
    "\n",
    "\n",
    "\n"
   ]
  },
  {
   "cell_type": "code",
   "execution_count": null,
   "metadata": {},
   "outputs": [],
   "source": []
  },
  {
   "cell_type": "code",
   "execution_count": 3,
   "metadata": {},
   "outputs": [],
   "source": [
    "#Label Encoding for enodig the raget varibles\n",
    "from sklearn.preprocessing import LabelEncoder\n",
    "labelencoder_Y = LabelEncoder()\n",
    "labelencoder_Y.fit_transform(Y)\n",
    "#spiltting data into training and testing \n",
    "from sklearn.model_selection import train_test_split\n",
    "X_train, X_test, Y_train, Y_test = train_test_split(X, Y, test_size = 0.2,random_state=22)\n",
    "\n",
    "\n",
    "#standard scaling\n",
    "from sklearn.preprocessing import StandardScaler\n",
    "sc = StandardScaler()\n",
    "X_train = sc.fit_transform(X_train)\n",
    "X_test = sc.transform(X_test)\n"
   ]
  },
  {
   "cell_type": "markdown",
   "metadata": {},
   "source": [
    "# KNN"
   ]
  },
  {
   "cell_type": "raw",
   "metadata": {},
   "source": [
    "BASIC IMPLEMENATION OF KNN\n",
    "1.Load the data\n",
    "2.Initialize K to your chosen number of neighbors\n",
    "3. For each example in the data\n",
    "3.1 Calculate the distance between the query example and the current example from the data.\n",
    "3.2 Add the distance and the index of the example to an ordered collection\n",
    "4. Sort the ordered collection of distances and indices from smallest to largest (in ascending order) by the distances\n",
    "5. Pick the first K entries from the sorted collection\n",
    "6. Get the labels of the selected K entries\n",
    "7. If regression, return the mean of the K labels\n",
    "8. If classification, return the mode of the K labels\n"
   ]
  },
  {
   "cell_type": "code",
   "execution_count": 4,
   "metadata": {},
   "outputs": [
    {
     "data": {
      "text/plain": [
       "KNeighborsClassifier(algorithm='auto', leaf_size=30, metric='minkowski',\n",
       "           metric_params=None, n_jobs=None, n_neighbors=10, p=2,\n",
       "           weights='uniform')"
      ]
     },
     "execution_count": 4,
     "metadata": {},
     "output_type": "execute_result"
    }
   ],
   "source": [
    "#Loading and fitting data into Knn\n",
    "from sklearn.neighbors import KNeighborsClassifier\n",
    "neighbors = KNeighborsClassifier(n_neighbors=10)  \n",
    "neighbors.fit(X_train, Y_train)\n",
    "neighbors\n"
   ]
  },
  {
   "cell_type": "code",
   "execution_count": null,
   "metadata": {},
   "outputs": [],
   "source": []
  },
  {
   "cell_type": "code",
   "execution_count": null,
   "metadata": {},
   "outputs": [],
   "source": []
  },
  {
   "cell_type": "code",
   "execution_count": null,
   "metadata": {},
   "outputs": [],
   "source": []
  },
  {
   "cell_type": "code",
   "execution_count": 5,
   "metadata": {},
   "outputs": [
    {
     "data": {
      "text/plain": [
       "85.82089552238806"
      ]
     },
     "execution_count": 5,
     "metadata": {},
     "output_type": "execute_result"
    }
   ],
   "source": [
    "#Accuracy\n",
    "from sklearn.metrics import accuracy_score\n",
    "# Predict using 10-NN Classifier\n",
    "y_pred = neighbors.predict(X_test)\n",
    "y_pred[0:20]\n",
    "accuracy_score(Y_test,y_pred)*100\n"
   ]
  },
  {
   "cell_type": "code",
   "execution_count": 6,
   "metadata": {},
   "outputs": [],
   "source": [
    "#FEATURE SELECTION\n",
    "#the selction of k value method\n",
    "#Searching for the best K in the dataset\n",
    "K = 10\n",
    "mean_acc = np.zeros((K-1))\n",
    "#feature selection of k from 1 to 10 which has better accuracy\n",
    "for n in range(1,K):     #range (start ,end)\n",
    "    \n",
    "    #Train Model and Predict \n",
    "    #constructing it  for k=1 to k=10 cross validation\n",
    "    neighbors = KNeighborsClassifier(n_neighbors = n)                 #Assigning value of n(1 to 10) in the loop\n",
    "    neighbors.fit(X_train,Y_train)       #fitting data\n",
    "    y_pred=neighbors.predict(X_test)    #predicting\n",
    "    mean_acc[n-1] = metrics.accuracy_score(Y_test, y_pred)    #Storing Accuracy of the each cross validation \n",
    "\n",
    "\n"
   ]
  },
  {
   "cell_type": "code",
   "execution_count": 7,
   "metadata": {},
   "outputs": [
    {
     "name": "stdout",
     "output_type": "stream",
     "text": [
      "For the values k=1 to k=9: \n",
      " [0.81236674 0.84434968 0.8336887  0.84648188 0.84221748 0.86034115\n",
      " 0.84861407 0.85927505 0.85607676]\n"
     ]
    }
   ],
   "source": [
    "mean_acc                                 #printing values of k\n",
    "print(\"For the values k=1 to k=9: \\n\",mean_acc)"
   ]
  },
  {
   "cell_type": "code",
   "execution_count": 8,
   "metadata": {},
   "outputs": [
    {
     "name": "stdout",
     "output_type": "stream",
     "text": [
      "The value is mean of all values k=1 to k=9   :  84.48235015399194\n"
     ]
    }
   ],
   "source": [
    "mean_acc.mean()                       #mean of all rhe values of k (1 to10)\n",
    "print(\"The value is mean of all values k=1 to k=9   : \",mean_acc.mean()*100)"
   ]
  },
  {
   "cell_type": "code",
   "execution_count": 9,
   "metadata": {},
   "outputs": [
    {
     "data": {
      "image/png": "[encoded data removed]",
      "text/plain": [
       "<Figure size 432x288 with 1 Axes>"
      ]
     },
     "metadata": {
      "needs_background": "light"
     },
     "output_type": "display_data"
    }
   ],
   "source": [
    "#plotting the graph for the selection of the k th values\n",
    "#Bar plot for training data\n",
    "fig = plt.figure()\n",
    "ax = fig.add_axes([0,0,1,1])#left,bootom ,width ,height                                                                                             #Add an axes to the figure.\n",
    "\n",
    "value_k = [\"1\",\"2\",\"3\",\"4\",\"5\",\"6\",\"7\",\"8\",\"9\"]     #X AXIS\n",
    "accuracy = [0.81236674, 0.84434968, 0.8336887,  0.84648188 ,0.84221748, 0.86034115,\n",
    " 0.84861407, 0.85927505 ,0.85607676]                         #Y AXIS\n",
    "ax.bar(value_k,accuracy,color='rgkyc')        #rgkyc-different color\n",
    "plt.title(\"Training Accuracy\",fontsize=25)    #title label\n",
    "plt.xlabel(\"Value of k\",fontsize=15)    #X label\n",
    "plt.ylabel(\"Rate in terms of percent\",fontsize=15)    #Y label\n",
    "plt.show()    #Display a figure\n"
   ]
  },
  {
   "cell_type": "markdown",
   "metadata": {},
   "source": [
    "# KNN cv"
   ]
  },
  {
   "cell_type": "code",
   "execution_count": 10,
   "metadata": {},
   "outputs": [],
   "source": [
    "#For cross validation\n",
    "from sklearn.model_selection import cross_val_score\n",
    "knn_scores = []\n",
    "#cross validation for the k value from 1 to 10\n",
    "for k in range(1,10):\n",
    "    knn_classifier = KNeighborsClassifier(n_neighbors = k)         #Assigniing value of k form 1 to 10\n",
    "    score=cross_val_score(knn_classifier,X_train,Y_train,cv=10)      #cross validation forr va;lues 1 to 10 each time running cv=10\n",
    "    knn_scores.append(score.mean())"
   ]
  },
  {
   "cell_type": "code",
   "execution_count": 11,
   "metadata": {},
   "outputs": [
    {
     "data": {
      "text/plain": [
       "array([0.8643617 , 0.84266667, 0.82133333, 0.83466667, 0.84266667,\n",
       "       0.83733333, 0.832     , 0.83733333, 0.8368984 , 0.8368984 ])"
      ]
     },
     "execution_count": 11,
     "metadata": {},
     "output_type": "execute_result"
    }
   ],
   "source": [
    "score   #values of accuracy for the k=1 to k=10"
   ]
  },
  {
   "cell_type": "code",
   "execution_count": 12,
   "metadata": {},
   "outputs": [
    {
     "data": {
      "text/plain": [
       "83.8615849357151"
      ]
     },
     "execution_count": 12,
     "metadata": {},
     "output_type": "execute_result"
    }
   ],
   "source": [
    "score.mean()*100    #mean of cross validation"
   ]
  },
  {
   "cell_type": "code",
   "execution_count": 13,
   "metadata": {},
   "outputs": [
    {
     "data": {
      "text/plain": [
       "Text(0.5, 1.0, 'K Neighbors Classifier scores [1-9]')"
      ]
     },
     "execution_count": 13,
     "metadata": {},
     "output_type": "execute_result"
    },
    {
     "data": {
      "image/png": "[encoded data removed]",
      "text/plain": [
       "<Figure size 432x288 with 1 Axes>"
      ]
     },
     "metadata": {
      "needs_background": "light"
     },
     "output_type": "display_data"
    }
   ],
   "source": [
    "#Plot y versus x as lines and/or markers for the ten values in it\n",
    "plt.plot([k for k in range(1, 10)], knn_scores, color = 'blue')\n",
    "for i in range(1,10):     #start,stop\n",
    "    plt.text(i, knn_scores[i-1], (i,'{:.2f}'.format(knn_scores[i-1]*100)) )     \n",
    "    #text for te  values accuracy in X-Y plot\n",
    "plt.xticks([i for i in range(1, 10)])      #Set the current  locations and labels of the x-axis.\n",
    "plt.xlabel('Number of Neighbors (K)',fontsize=15)   #assign labels for the X axis\n",
    "plt.ylabel('Scores',fontsize=15,color=\"RED\")        #assign labels for the Y axis\n",
    "plt.title('K Neighbors Classifier scores [1-9]',fontsize=15,color=\"BLUE\")    #assign labels for the Title of the graph"
   ]
  },
  {
   "cell_type": "code",
   "execution_count": 14,
   "metadata": {},
   "outputs": [
    {
     "name": "stdout",
     "output_type": "stream",
     "text": [
      "The best accuracy of k is 6    k=6 --> 86.482\n",
      "Accuracy with K-NN with CROSS VALIDATION: 83.86     STD--> (+/- 2.061948)\n"
     ]
    }
   ],
   "source": [
    "print(\"The best accuracy of k is 6    k=6 --> 86.482\")\n",
    "\n",
    "print(\"Accuracy with K-NN with CROSS VALIDATION: %0.2f     STD--> (+/- %f)\" % (score.mean()*100, score.std() *2*100))\n"
   ]
  },
  {
   "cell_type": "code",
   "execution_count": 15,
   "metadata": {},
   "outputs": [
    {
     "name": "stdout",
     "output_type": "stream",
     "text": [
      "best aprmeters {'leaf_size': 45, 'n_neighbors': 21, 'p': 2}\n",
      "best score 0.8516937850093358\n"
     ]
    }
   ],
   "source": [
    "\n",
    "#starting of the tuning methods\n",
    "from sklearn.model_selection import RandomizedSearchCV\n",
    "#RandomizedSearchCV tuning method which does tuning on sample\n",
    "from scipy.stats import randint    #for importing random values \n",
    "\n",
    "est = KNeighborsClassifier(n_jobs=-1)\n",
    "#assigning hyperameters for randomized search \n",
    "rf_p_dist={  'leaf_size' : randint(1,50),\n",
    "'n_neighbors' : randint(1,30),\n",
    "'p':[1,2]\n",
    "  }\n",
    "#combinations  50*30*2=3000\n",
    "#it will be working for limited sample randomly \n",
    "def hypertuning_rscv(est, rf_p_distr, nbr_iter,X,y):\n",
    "    rdmsearch = RandomizedSearchCV(est, param_distributions=rf_p_distr,\n",
    "                                  n_jobs=-1, n_iter=nbr_iter, cv=5)\n",
    "    #CV = Cross-Validation (Stratified KFold CV)\n",
    "    rdmsearch.fit(X,y)               #fitting training data\n",
    "    ht_params = rdmsearch.best_params_            #best parameter\n",
    "    ht_score = rdmsearch.best_score_               #best accuracy\n",
    "    return ht_params, ht_score                       #returning values for the best paramterand its score\n",
    "\n",
    "\n",
    "rf_parameters, rf_ht_score = hypertuning_rscv(est, rf_p_dist, 5, X_train, Y_train)\n",
    "#classifier,iteartions,ttraining data\n",
    "print(\"best aprmeters\",rf_parameters)\n",
    "print(\"best score\",rf_ht_score)\n",
    "\n",
    "\n",
    "\n"
   ]
  },
  {
   "cell_type": "markdown",
   "metadata": {},
   "source": [
    "# Classification report of knn for the best knn value"
   ]
  },
  {
   "cell_type": "code",
   "execution_count": 16,
   "metadata": {},
   "outputs": [],
   "source": [
    "#evaluting for the best k=6 values from feature selection\n",
    "from sklearn.neighbors import KNeighborsClassifier\n",
    "neighbors = KNeighborsClassifier(n_neighbors=6)  #neighbours=6 \n",
    "neighbors.fit(X_train, Y_train) #fitting data\n",
    "y_pred=neighbors.predict(X_train)  #predciting training data\n"
   ]
  },
  {
   "cell_type": "code",
   "execution_count": 17,
   "metadata": {},
   "outputs": [
    {
     "name": "stdout",
     "output_type": "stream",
     "text": [
      "              precision    recall  f1-score   support\n",
      "\n",
      "       False       0.87      0.99      0.93      3138\n",
      "        True       0.82      0.25      0.39       611\n",
      "\n",
      "   micro avg       0.87      0.87      0.87      3749\n",
      "   macro avg       0.84      0.62      0.66      3749\n",
      "weighted avg       0.86      0.87      0.84      3749\n",
      "\n"
     ]
    }
   ],
   "source": [
    "from sklearn.metrics import classification_report\n",
    "report = classification_report(Y_train,y_pred)\n",
    "print(report)\n",
    "#for the training data"
   ]
  },
  {
   "cell_type": "code",
   "execution_count": 18,
   "metadata": {},
   "outputs": [
    {
     "name": "stdout",
     "output_type": "stream",
     "text": [
      "AUC=0.500\n",
      "ROC=0.796\n"
     ]
    },
    {
     "data": {
      "image/png": "[encoded data removed]",
      "text/plain": [
       "<Figure size 432x288 with 1 Axes>"
      ]
     },
     "metadata": {
      "needs_background": "light"
     },
     "output_type": "display_data"
    }
   ],
   "source": [
    "#PLOTTING AUC AND ROC FOR CLASSIFICATION PROBLEM \n",
    "from sklearn.metrics import roc_curve\n",
    "from sklearn.metrics import auc, precision_recall_curve,f1_score\n",
    "import matplotlib.pyplot as plt\n",
    "from sklearn.neighbors import KNeighborsClassifier\n",
    "from sklearn.metrics import roc_curve\n",
    "from sklearn.metrics import roc_auc_score\n",
    "from matplotlib import pyplot\n",
    "\n",
    "ns_probs = [0 for _ in range(len(Y_test))]\n",
    "# fit a model\n",
    "\n",
    "\n",
    "# predict probabilities\n",
    "lr_probs = neighbors.predict_proba(X_test)\n",
    "# keep probabilities for the positive outcome only\n",
    "lr_probs = lr_probs[:, 1]\n",
    "# calculate scores\n",
    "ns_auc = roc_auc_score(Y_test, ns_probs)\n",
    "lr_auc = roc_auc_score(Y_test, lr_probs)\n",
    "# summarize scores\n",
    "print('AUC=%.3f' % (ns_auc))\n",
    "print('ROC=%.3f' % (lr_auc))\n",
    "# calculate roc curves\n",
    "ns_fpr, ns_tpr, _ = roc_curve(Y_test, ns_probs)\n",
    "lr_fpr, lr_tpr, _ = roc_curve(Y_test, lr_probs)\n",
    "# plot the roc curve for the model\n",
    "pyplot.plot(ns_fpr, ns_tpr, linestyle='--', label='AUC')\n",
    "pyplot.plot(lr_fpr, lr_tpr, marker='.', label='ROC')\n",
    "# axis labels\n",
    "pyplot.xlabel('False Positive Rate')\n",
    "pyplot.ylabel('True Positive Rate')\n",
    "# show the legend\n",
    "pyplot.legend()\n",
    "# show the plot\n",
    "pyplot.show()\n"
   ]
  },
  {
   "cell_type": "markdown",
   "metadata": {},
   "source": [
    "# SVC"
   ]
  },
  {
   "cell_type": "markdown",
   "metadata": {},
   "source": [
    "OVERVIEW\n",
    "1. Load the data and fit it \n",
    "2. Now the speration aprt which separte  the classes through a hyperplane\n",
    "3. For the maximum sepration we should have maximum seration between the classes we will assighn support vectors\n",
    "4. maximum sepertaion tell which data belongs to which class it classify."
   ]
  },
  {
   "cell_type": "code",
   "execution_count": 19,
   "metadata": {},
   "outputs": [
    {
     "data": {
      "text/plain": [
       "SVC(C=1.0, cache_size=200, class_weight=None, coef0=0.0,\n",
       "  decision_function_shape='ovr', degree=3, gamma='auto_deprecated',\n",
       "  kernel='linear', max_iter=-1, probability=False, random_state=None,\n",
       "  shrinking=True, tol=0.001, verbose=False)"
      ]
     },
     "execution_count": 19,
     "metadata": {},
     "output_type": "execute_result"
    }
   ],
   "source": [
    "#loading and fitting the dataset\n",
    "from sklearn.svm import SVC\n",
    "clf = SVC(kernel = 'linear')               #Assigning kernel(linear,rbf,ploy.) according to the dataset \n",
    "clf.fit(X_train, Y_train)                     #fitting in to training data\n",
    "#training\n",
    "y_pred=clf.predict(X_train)                     #fitting in to training data for prediction\n",
    "#testing\n",
    "y_pred1=clf.predict(X_test)                            #fitting in to testing data for prediction\n",
    "clf"
   ]
  },
  {
   "cell_type": "code",
   "execution_count": 20,
   "metadata": {},
   "outputs": [
    {
     "name": "stdout",
     "output_type": "stream",
     "text": [
      "training accuracy for SVC  : 83.70232061883169\n",
      "test accuracy  for SVC     : 84.64818763326227\n"
     ]
    }
   ],
   "source": [
    "from sklearn.metrics import accuracy_score\n",
    "print(\"training accuracy for SVC  :\",accuracy_score(Y_train,y_pred)*100)    #Accuarcy for training\n",
    "print(\"test accuracy  for SVC     :\",accuracy_score(Y_test,y_pred1)*100)    #Accuracy for testing"
   ]
  },
  {
   "cell_type": "code",
   "execution_count": null,
   "metadata": {},
   "outputs": [],
   "source": []
  },
  {
   "cell_type": "code",
   "execution_count": 21,
   "metadata": {},
   "outputs": [
    {
     "data": {
      "image/png": "[encoded data removed]",
      "text/plain": [
       "<Figure size 432x288 with 1 Axes>"
      ]
     },
     "metadata": {
      "needs_background": "light"
     },
     "output_type": "display_data"
    }
   ],
   "source": [
    "#3D view of scattter plot for the independent varibales with target variable\n",
    "from mpl_toolkits.mplot3d import Axes3D   #tool kit of matplotlib for plotting 3d data into 2d\n",
    "fig = plt.figure()                 #for creating new figure\n",
    "ax = fig.add_subplot(111, projection='3d')                   #*nrows*, *ncols*, and *index*\n",
    "x = dataset['Est Dia in KM(min)']                     \n",
    "y = dataset['Miss Dist.(Astronomical)']\n",
    "z= dataset['Hazardous']\n",
    "ax.scatter(x, y, z)    #array like data positions for X,Y,Z\n",
    "ax.set_xlabel('Est Dia in KM(min)')                     #Assigning labels for the dataset which we have computed in  x axis\n",
    "ax.set_ylabel('Miss Dist.(Astronomical)')               #Assigning labels for the dataset which we have computed in  y axis\n",
    "ax.set_zlabel('Hazardous')                               #similarly for z axis\n",
    "plt.title('3D plot of X1 ,X2 and Y ')                    #title label\n",
    "plt.show()                                              #plotiing the figure\n"
   ]
  },
  {
   "cell_type": "code",
   "execution_count": 22,
   "metadata": {},
   "outputs": [
    {
     "data": {
      "image/png": "[encoded data removed]",
      "text/plain": [
       "<Figure size 432x288 with 1 Axes>"
      ]
     },
     "metadata": {
      "needs_background": "light"
     },
     "output_type": "display_data"
    }
   ],
   "source": [
    "#visulizing the plane which would seperate the the points\n",
    "tmp = np.linspace(-1,20,20)   #Return evenly spaced numbers over a specified interval.\n",
    "\n",
    "x,y = np.meshgrid(tmp,tmp)  #Return coordinate matrices from coordinate vectors\n",
    "#Lambda functions solve this problem. First, we create a lambda function, and assign it to a variable. \n",
    "#Then we show that variable is a function, and that we can call it with an argument.\n",
    "z = lambda x,y: (-clf.intercept_[0]-clf.coef_[0][0]*x-clf.coef_[0][1]*y) / clf.coef_[0][1]\n",
    "# The equation of the separating plane is given by all x so that np.dot(svc.coef_[0], x) + b = 0.\n",
    "fig = plt.figure()\n",
    "ax  = fig.add_subplot(111, projection='3d')   #(111)-->row,col,index of particular\n",
    "ax.plot_surface(x, y, z(x,y),cmap=\"hot\")            #For Creating a surface plot.\n",
    "ax.set_xlabel('Est Dia in KM(min)')                   #Assigning labels for the x ,y ,z\n",
    "ax.set_ylabel('Miss Dist.(Astronomical)')             #Assigning labels for the x ,y ,z\n",
    "ax.set_zlabel(\"HAZARDOUS\")                            #Assigning labels for the x ,y ,z\n",
    "plt.title(\"3d plot for SVM\")                             #Assigning label ffor thr titls\n",
    "plt.show()"
   ]
  },
  {
   "cell_type": "code",
   "execution_count": null,
   "metadata": {},
   "outputs": [],
   "source": []
  },
  {
   "cell_type": "code",
   "execution_count": 23,
   "metadata": {
    "scrolled": true
   },
   "outputs": [
    {
     "name": "stdout",
     "output_type": "stream",
     "text": [
      "Accuracy with SVC and K-FOLD CROSS VALIDATION: 83.70 (+/- 0.0013)\n"
     ]
    }
   ],
   "source": [
    "#cross validation value with accuracy and standard deviation\n",
    "from sklearn.model_selection import cross_val_score\n",
    "\n",
    "pred_kfold = cross_val_score(clf, X_train, Y_train, cv=10)  #apllying on training data with cv=10 default \n",
    " \n",
    "print(\"Accuracy with SVC and K-FOLD CROSS VALIDATION: %0.2f (+/- %0.4f)\" % (pred_kfold.mean()*100, pred_kfold.std() * 2))\n",
    "\n"
   ]
  },
  {
   "cell_type": "code",
   "execution_count": 24,
   "metadata": {},
   "outputs": [
    {
     "name": "stdout",
     "output_type": "stream",
     "text": [
      "best aprmeters {'kernel': 'rbf', 'gamma': 'auto', 'decision_function_shape': 'ovr'}\n",
      "best score 0.8450253400906909\n"
     ]
    }
   ],
   "source": [
    "#starting of the tuning methods\n",
    "from sklearn.model_selection import RandomizedSearchCV\n",
    "from sklearn.svm import SVC\n",
    "\n",
    "#RandomizedSearchCV tuning method which does tuning on sample\n",
    "from scipy.stats import randint    #for importing random values \n",
    "\n",
    "est = SVC()\n",
    "#assigning hyperameters for randomized search \n",
    "rf_p_dist={  \n",
    "  'kernel':['linear',\"rbf\",\"sigmoid\"],\n",
    "          \"decision_function_shape\":[\"ovo\",\"ovr\"],\n",
    "'gamma':[\"scale\", \"auto\"]}\n",
    "#it will be working for limited sample randomly \n",
    "def hypertuning_rscv(est, rf_p_distr, nbr_iter,X,y):\n",
    "    rdmsearch = RandomizedSearchCV(est, param_distributions=rf_p_distr,\n",
    "                                  n_jobs=-1, n_iter=nbr_iter, cv=5)\n",
    "    #CV = Cross-Validation (Stratified KFold CV)\n",
    "    rdmsearch.fit(X,y)               #fitting training data\n",
    "    ht_params = rdmsearch.best_params_            #best parameter\n",
    "    ht_score = rdmsearch.best_score_               #best accuracy\n",
    "    return ht_params, ht_score                       #returning values for the best paramterand its score\n",
    "\n",
    "\n",
    "rf_parameters, rf_ht_score = hypertuning_rscv(est, rf_p_dist, 5, X_train, Y_train)\n",
    "#classifier,iteartions,ttraining data\n",
    "print(\"best aprmeters\",rf_parameters)\n",
    "print(\"best score\",rf_ht_score)\n",
    "\n"
   ]
  },
  {
   "cell_type": "code",
   "execution_count": null,
   "metadata": {},
   "outputs": [],
   "source": []
  },
  {
   "cell_type": "code",
   "execution_count": 25,
   "metadata": {},
   "outputs": [
    {
     "name": "stdout",
     "output_type": "stream",
     "text": [
      "                  Classification report of training data \n",
      "              precision    recall  f1-score   support\n",
      "\n",
      "       False       0.84      1.00      0.91      3138\n",
      "        True       0.00      0.00      0.00       611\n",
      "\n",
      "   micro avg       0.84      0.84      0.84      3749\n",
      "   macro avg       0.42      0.50      0.46      3749\n",
      "weighted avg       0.70      0.84      0.76      3749\n",
      "\n",
      "The accuracy of the SVM will be: 0.8370232061883169\n"
     ]
    },
    {
     "name": "stderr",
     "output_type": "stream",
     "text": [
      "C:\\Users\\dell\\Anaconda3\\lib\\site-packages\\sklearn\\metrics\\classification.py:1143: UndefinedMetricWarning: Precision and F-score are ill-defined and being set to 0.0 in labels with no predicted samples.\n",
      "  'precision', 'predicted', average, warn_for)\n",
      "C:\\Users\\dell\\Anaconda3\\lib\\site-packages\\sklearn\\metrics\\classification.py:1143: UndefinedMetricWarning: Precision and F-score are ill-defined and being set to 0.0 in labels with no predicted samples.\n",
      "  'precision', 'predicted', average, warn_for)\n",
      "C:\\Users\\dell\\Anaconda3\\lib\\site-packages\\sklearn\\metrics\\classification.py:1143: UndefinedMetricWarning: Precision and F-score are ill-defined and being set to 0.0 in labels with no predicted samples.\n",
      "  'precision', 'predicted', average, warn_for)\n"
     ]
    }
   ],
   "source": [
    "#cross validation value with accuracy and standard deviation\n",
    "from sklearn.metrics import classification_report\n",
    "report = classification_report(Y_train,y_pred)    #Build a text report showing the main classification metrics\n",
    "print(\"                  Classification report of training data \")\n",
    "print(report)\n",
    "\n",
    "from sklearn.metrics import accuracy_score\n",
    "accuracy_score(Y_test,y_pred1)                           #Accuarcy\n",
    "print(\"The accuracy of the SVM will be:\",accuracy_score(Y_train,y_pred))\n"
   ]
  },
  {
   "cell_type": "code",
   "execution_count": null,
   "metadata": {},
   "outputs": [],
   "source": []
  },
  {
   "cell_type": "code",
   "execution_count": null,
   "metadata": {},
   "outputs": [],
   "source": []
  },
  {
   "cell_type": "markdown",
   "metadata": {},
   "source": [
    "# Random forest "
   ]
  },
  {
   "cell_type": "code",
   "execution_count": 26,
   "metadata": {},
   "outputs": [],
   "source": [
    "#INCREASING THE NUMBER OF TREES"
   ]
  },
  {
   "cell_type": "code",
   "execution_count": 27,
   "metadata": {},
   "outputs": [
    {
     "name": "stdout",
     "output_type": "stream",
     "text": [
      "RandomForestClassifier(bootstrap=True, class_weight=None, criterion='entropy',\n",
      "            max_depth=None, max_features='auto', max_leaf_nodes=None,\n",
      "            min_impurity_decrease=0.0, min_impurity_split=None,\n",
      "            min_samples_leaf=1, min_samples_split=2,\n",
      "            min_weight_fraction_leaf=0.0, n_estimators=10, n_jobs=None,\n",
      "            oob_score=False, random_state=None, verbose=0,\n",
      "            warm_start=False)\n"
     ]
    }
   ],
   "source": [
    "\n",
    "# Fitting Random Forest Classification to the Training set\n",
    "from sklearn.ensemble import RandomForestClassifier\n",
    "classifier = RandomForestClassifier(n_estimators = 10, criterion = 'entropy')       #n_estimators-int value #entropy here defines criteria for info. gain and   \n",
    "classifier.fit(X_train, Y_train)        #fitting dat into training\n",
    "print(classifier)\n"
   ]
  },
  {
   "cell_type": "code",
   "execution_count": 28,
   "metadata": {},
   "outputs": [],
   "source": [
    "#starting of the tuning methods\n",
    "from sklearn.model_selection import RandomizedSearchCV\n",
    "#RandomizedSearchCV tuning method which does tuning on sample\n",
    "from scipy.stats import randint    #for importing random values \n",
    "\n",
    "est = RandomForestClassifier(n_jobs=-1)\n",
    "#assigning hyperameters for randomized search \n",
    "rf_p_dist={'max_depth':[3,5,10],                               #max_depth=depth of tree\n",
    "              'n_estimators':[10,100,200,300,400,500],          #NO. of tree\n",
    "              'max_features':randint(1,3),               #features\n",
    "               'criterion':['gini','entropy'],                #infoo gain,gini index, gain ratio\n",
    "               'bootstrap':[True,False],   #with replacement\n",
    "               'min_samples_leaf':randint(1,4),   #leafes\n",
    "              }\n",
    "\n",
    "#we have  3*6*3*2*2*4=864 combinations for the randomised search we will be using\n",
    "#it will be working for limited sample randomly \n"
   ]
  },
  {
   "cell_type": "code",
   "execution_count": 29,
   "metadata": {},
   "outputs": [],
   "source": [
    "def hypertuning_rscv(est, rf_p_distr, nbr_iter,X,y):\n",
    "    rdmsearch = RandomizedSearchCV(est, param_distributions=rf_p_distr,\n",
    "                                  n_jobs=-1, n_iter=nbr_iter, cv=5)\n",
    "    #CV = Cross-Validation (Stratified KFold CV)\n",
    "    rdmsearch.fit(X,y)               #fitting training data\n",
    "    ht_params = rdmsearch.best_params_            #best parameter\n",
    "    ht_score = rdmsearch.best_score_               #best accuracy\n",
    "    return ht_params, ht_score                       #returning values for the best paramterand its score\n"
   ]
  },
  {
   "cell_type": "code",
   "execution_count": 30,
   "metadata": {},
   "outputs": [
    {
     "data": {
      "text/plain": [
       "0.8543611629767938"
      ]
     },
     "execution_count": 30,
     "metadata": {},
     "output_type": "execute_result"
    }
   ],
   "source": [
    "\n",
    "\n",
    "rf_parameters, rf_ht_score = hypertuning_rscv(est, rf_p_dist, 5, X_train, Y_train)\n",
    "#classifier,iteartions,ttraining data\n",
    "rf_parameters\n",
    "rf_ht_score\n"
   ]
  },
  {
   "cell_type": "code",
   "execution_count": null,
   "metadata": {},
   "outputs": [],
   "source": []
  },
  {
   "cell_type": "code",
   "execution_count": 31,
   "metadata": {},
   "outputs": [],
   "source": [
    "#Assigning best values for trainig data with hyperparmetrs\n",
    "claasifier_tune=RandomForestClassifier(bootstrap= True,\n",
    " criterion= 'gini',\n",
    " max_depth= 5,\n",
    " max_features=2,\n",
    " min_samples_leaf= 2,\n",
    " n_estimators= 10)\n"
   ]
  },
  {
   "cell_type": "code",
   "execution_count": 32,
   "metadata": {},
   "outputs": [
    {
     "name": "stdout",
     "output_type": "stream",
     "text": [
      "The train accuracy of the random forest randizedtuned: 85.88957055214725\n",
      "The test accuracy of the random forest randizedtuned: 86.78038379530916\n"
     ]
    }
   ],
   "source": [
    "#fitting data\n",
    "#prediction for training data\n",
    "#prediction for testing data\n",
    "claasifier_tune.fit(X_train, Y_train)\n",
    "y_pred=claasifier_tune.predict(X_train)\n",
    "y_pred1=claasifier_tune.predict(X_test)\n",
    "print(\"The train accuracy of the random forest randizedtuned:\",accuracy_score(Y_train,y_pred)*100)\n",
    "print(\"The test accuracy of the random forest randizedtuned:\",accuracy_score(Y_test,y_pred1)*100)\n",
    "\n"
   ]
  },
  {
   "cell_type": "code",
   "execution_count": 33,
   "metadata": {},
   "outputs": [],
   "source": [
    "\n",
    "from sklearn.metrics import confusion_matrix,accuracy_score\n",
    "from sklearn.metrics import precision_score\n",
    "from sklearn.metrics import recall_score\n",
    "\n",
    "\n",
    "cm = confusion_matrix(Y_train, y_pred)\n",
    "#precision values for false positive rate\n",
    "#recall values for false negative rate\n",
    "cross_val=cross_val_score(claasifier_tune,X_train,Y_train,cv=10,scoring='accuracy')\n",
    "cross_val1=cross_val_score(claasifier_tune,X_train,Y_train,cv=10,scoring='precision')\n",
    "cross_val2=cross_val_score(claasifier_tune,X_train,Y_train,cv=10,scoring='recall')\n"
   ]
  },
  {
   "cell_type": "code",
   "execution_count": 34,
   "metadata": {},
   "outputs": [
    {
     "name": "stdout",
     "output_type": "stream",
     "text": [
      "The value of training data for 10 values:\n",
      "[0.86968085 0.85333333 0.84266667 0.84266667 0.86666667 0.856\n",
      " 0.85333333 0.848      0.85561497 0.84491979]\n",
      "  The value of training data mean for accuracy : 85.32882277088787\n",
      " \n",
      " \n",
      "The value of training data for 10 values of precsion:\n",
      "[0.8        0.5        0.58333333 0.7        0.84615385 0.78571429\n",
      " 0.81818182 0.76923077 0.73333333 0.78571429]\n",
      "  The value of training data mean for precision: 73.21661671661671\n",
      " \n",
      " \n",
      "The value of training data for 10 values of recall:\n",
      "[0.24193548 0.14754098 0.1147541  0.1147541  0.21311475 0.16393443\n",
      " 0.13114754 0.13114754 0.19672131 0.14754098]\n",
      "  The value of training data meanfor recall: 16.025912215758858\n"
     ]
    }
   ],
   "source": [
    "\n",
    "print(\"The value of training data for 10 values:\")\n",
    "print(cross_val)\n",
    "print(\"  The value of training data mean for accuracy :\",cross_val.mean()*100)\n",
    "print(\" \")\n",
    "print(\" \")\n",
    "print(\"The value of training data for 10 values of precsion:\")\n",
    "print(cross_val1)\n",
    "print(\"  The value of training data mean for precision:\",cross_val1.mean()*100)\n",
    "print(\" \")\n",
    "print(\" \")\n",
    "print(\"The value of training data for 10 values of recall:\")\n",
    "print(cross_val2)\n",
    "print(\"  The value of training data meanfor recall:\",cross_val2.mean()*100)\n",
    "\n",
    "\n"
   ]
  },
  {
   "cell_type": "code",
   "execution_count": 35,
   "metadata": {},
   "outputs": [
    {
     "name": "stdout",
     "output_type": "stream",
     "text": [
      "Accuracy  of the training data through randomised tuning: 85.43611629767938\n",
      "The value of  acuuracy training data through k-croos validation: 85.32882277088787\n",
      "The value of precision training data through k-croos validation : 73.21661671661671\n",
      "The value of recall training data through k-croos validation : 16.025912215758858\n"
     ]
    }
   ],
   "source": [
    "print(\"Accuracy  of the training data through randomised tuning:\",rf_ht_score*100)\n",
    "\n",
    "print(\"The value of  acuuracy training data through k-croos validation:\",cross_val.mean()*100)\n",
    "\n",
    "print(\"The value of precision training data through k-croos validation :\",cross_val1.mean()*100)\n",
    "\n",
    "print(\"The value of recall training data through k-croos validation :\",cross_val2.mean()*100)\n"
   ]
  },
  {
   "cell_type": "code",
   "execution_count": 36,
   "metadata": {},
   "outputs": [
    {
     "name": "stdout",
     "output_type": "stream",
     "text": [
      "AUC=0.500\n",
      "ROC=0.779\n"
     ]
    },
    {
     "data": {
      "image/png": "[encoded data removed]",
      "text/plain": [
       "<Figure size 432x288 with 1 Axes>"
      ]
     },
     "metadata": {
      "needs_background": "light"
     },
     "output_type": "display_data"
    }
   ],
   "source": [
    "#PLOTTING AUC AND ROC FOR CLASSIFICATION PROBLEM \n",
    "from sklearn.metrics import roc_curve\n",
    "from sklearn.metrics import auc\n",
    "\n",
    "from matplotlib import pyplot\n",
    "\n",
    "# Fitting Random Forest Classification to the Training set\n",
    "from sklearn.ensemble import RandomForestClassifier\n",
    "classifier = RandomForestClassifier(n_estimators = 10, criterion = 'entropy')       #n_estimators-int value #entropy here defines criteria for info. gain and   \n",
    "classifier.fit(X_train, Y_train)        #fitting dat into training\n",
    "\n",
    "ns_probs = [0 for _ in range(len(Y_test))]\n",
    "# fit a model\n",
    "\n",
    "# predict probabilities\n",
    "lr_probs = classifier.predict_proba(X_test)\n",
    "# keep probabilities for the positive outcome only\n",
    "lr_probs = lr_probs[:, 1]\n",
    "# calculate scores\n",
    "ns_auc = roc_auc_score(Y_test, ns_probs)\n",
    "lr_auc = roc_auc_score(Y_test, lr_probs)\n",
    "# summarize scores\n",
    "print('AUC=%.3f' % (ns_auc))\n",
    "print('ROC=%.3f' % (lr_auc))\n",
    "\n",
    "# calculate roc curves\n",
    "ns_fpr, ns_tpr, _ = roc_curve(Y_test, ns_probs)\n",
    "lr_fpr, lr_tpr, _ = roc_curve(Y_test, lr_probs)\n",
    "# plot the roc curve for the model\n",
    "pyplot.plot(ns_fpr, ns_tpr, linestyle='--', label='AOC')\n",
    "pyplot.plot(lr_fpr, lr_tpr, marker='.', label='ROC')\n",
    "# axis labels\n",
    "pyplot.xlabel('False Positive Rate')\n",
    "pyplot.ylabel('True Positive Rate')\n",
    "pyplot.title(\"Random forest classifier\")\n",
    "# show the legend\n",
    "pyplot.legend()\n",
    "# show the plot\n",
    "pyplot.show()\n"
   ]
  },
  {
   "cell_type": "markdown",
   "metadata": {},
   "source": [
    "# Ada boost and campare of tuning methods\n"
   ]
  },
  {
   "cell_type": "code",
   "execution_count": 37,
   "metadata": {},
   "outputs": [
    {
     "data": {
      "text/plain": [
       "AdaBoostClassifier(algorithm='SAMME.R', base_estimator=None,\n",
       "          learning_rate=1.0, n_estimators=50, random_state=None)"
      ]
     },
     "execution_count": 37,
     "metadata": {},
     "output_type": "execute_result"
    }
   ],
   "source": [
    "#Comparring of randomizedserachCV and gridsearchCV\n",
    "from sklearn.ensemble import AdaBoostClassifier\n",
    "ada=AdaBoostClassifier()\n",
    "ada.fit(X_train,Y_train)   #training data\n",
    "ada"
   ]
  },
  {
   "cell_type": "markdown",
   "metadata": {},
   "source": [
    "# Prediction"
   ]
  },
  {
   "cell_type": "code",
   "execution_count": 38,
   "metadata": {},
   "outputs": [
    {
     "data": {
      "text/plain": [
       "array([False, False, False, False, False, False, False, False, False,\n",
       "       False, False, False, False, False, False, False, False, False,\n",
       "       False, False])"
      ]
     },
     "execution_count": 38,
     "metadata": {},
     "output_type": "execute_result"
    }
   ],
   "source": [
    "#prediction for ADA boost\n",
    "y_pred = ada.predict(X_train)                  #prediction for the training data\n",
    "y_pred[:20]                                     #predction for the first 20 values\n"
   ]
  },
  {
   "cell_type": "code",
   "execution_count": 39,
   "metadata": {},
   "outputs": [],
   "source": [
    "#Tuning methods and comparing Them"
   ]
  },
  {
   "cell_type": "code",
   "execution_count": 40,
   "metadata": {},
   "outputs": [],
   "source": [
    "\n",
    "from sklearn.ensemble import AdaBoostClassifier\n",
    "\n",
    "from sklearn.model_selection import RandomizedSearchCV\n",
    "#RandomizedSearchCV-\n",
    "from scipy.stats import randint  #for random integer values\n",
    "\n",
    "est = AdaBoostClassifier()\n",
    "rf_p_dist={\n",
    " 'n_estimators': [50, 100,200,300,90],\n",
    " 'learning_rate' : [0.01,0.05,0.1,0.3,1,0.8],\n",
    "              \n",
    "  'algorithm':['SAMME.R','SAMME']                        #algo here is for more data SAMME.R  for lower computaion\n",
    "  \n",
    "          }\n",
    "def hypertuning_grid(est, rf_p_dist, nbr_iter,X_train,Y_train):\n",
    "    rdmsearch = RandomizedSearchCV(est, param_distributions=rf_p_dist,\n",
    "                                  n_jobs=-1, n_iter=nbr_iter, cv=5)\n",
    "    rdmsearch.fit(X_train,Y_train)                  #fitting data\n",
    "    ht_params = rdmsearch.best_params_             #best paramter\n",
    "    ht_score = rdmsearch.best_score_                     #best scorer\n",
    "    return ht_params, ht_score                      #returning values for the best accuracy and the best paprmeters\n",
    "\n"
   ]
  },
  {
   "cell_type": "code",
   "execution_count": 41,
   "metadata": {},
   "outputs": [
    {
     "name": "stdout",
     "output_type": "stream",
     "text": [
      "train_time_ada_rand_tune  : 1588335218.9283507\n"
     ]
    }
   ],
   "source": [
    "rf_parameters_ran, rf_ht_score_ran = hypertuning_grid(est, rf_p_dist, 1, X_train, Y_train)\n",
    "end=time()                         #starting time\n",
    "train_time_adatune=end-start                 #end time\n",
    "print(\"train_time_ada_rand_tune  :\",train_time_adatune)\n"
   ]
  },
  {
   "cell_type": "code",
   "execution_count": 42,
   "metadata": {},
   "outputs": [
    {
     "name": "stdout",
     "output_type": "stream",
     "text": [
      "accuracy of training data  85.2760736196319\n"
     ]
    }
   ],
   "source": [
    "print(\"accuracy of training data \",rf_ht_score_ran*100)                    #accuracy with traing data"
   ]
  },
  {
   "cell_type": "code",
   "execution_count": 43,
   "metadata": {},
   "outputs": [
    {
     "name": "stdout",
     "output_type": "stream",
     "text": [
      "train_aadagrid 1588335271.8894832\n"
     ]
    }
   ],
   "source": [
    "#Now compute the time for Grid Search CV and campare\n",
    "from sklearn.ensemble import AdaBoostClassifier\n",
    "\n",
    "from sklearn.model_selection import GridSearchCV\n",
    "est=AdaBoostClassifier()\n",
    "from scipy.stats import randint\n",
    "parameters={\n",
    " 'n_estimators': [50, 100,200,300,90],           #no of trees\n",
    " 'learning_rate' : [0.01,0.05,0.1,0.3,1,0.8],             #rate of learning for assigning optimal local iinima.\n",
    "              \n",
    "  'algorithm':['SAMME.R','SAMME']\n",
    "  \n",
    "          }\n",
    "\n",
    "grid_search = GridSearchCV(estimator = est,\n",
    "                           param_grid = parameters,\n",
    "                           scoring = 'accuracy',\n",
    "                           cv =5,\n",
    "                           n_jobs = -1)\n",
    "grid_search = grid_search.fit(X_train, Y_train)                    #fitting data\n",
    "end=time()                                          #starting time\n",
    "train_aadagrid=end-start              #end time\n",
    "print(\"train_aadagrid\",train_aadagrid)"
   ]
  },
  {
   "cell_type": "code",
   "execution_count": 44,
   "metadata": {},
   "outputs": [
    {
     "name": "stdout",
     "output_type": "stream",
     "text": [
      "Accuracy of the training ada boost gridsearch  85.4094425180048\n"
     ]
    }
   ],
   "source": [
    "\n",
    "accuracy = grid_search.best_score_\n",
    "\n",
    "print(\"Accuracy of the training ada boost gridsearch \",accuracy*100)"
   ]
  },
  {
   "cell_type": "markdown",
   "metadata": {},
   "source": [
    "# Time to check the better ones in terms of computation time "
   ]
  },
  {
   "cell_type": "code",
   "execution_count": 45,
   "metadata": {},
   "outputs": [
    {
     "name": "stdout",
     "output_type": "stream",
     "text": [
      "time_randomised  : 630.1231083\n",
      "time_grid        : 904.1174705\n",
      "time_diff        : 273.99436219999996\n",
      " \n"
     ]
    }
   ],
   "source": [
    "#taking the last 3 values\n",
    "time_randomised=630.1231083    #158707630.123183 time for training\n",
    "time_grid=904.1174705      #1587070904.1174705 time for training\n",
    "\n",
    "time_diff=time_grid-time_randomised\n",
    "print(\"time_randomised  :\",time_randomised)# in this we are making iterations 20\n",
    "print(\"time_grid        :\",time_grid)# In this we are making iterations 5\n",
    "print(\"time_diff        :\",time_diff)\n",
    "print(\" \")"
   ]
  },
  {
   "cell_type": "code",
   "execution_count": null,
   "metadata": {},
   "outputs": [],
   "source": []
  },
  {
   "cell_type": "code",
   "execution_count": null,
   "metadata": {},
   "outputs": [],
   "source": []
  },
  {
   "cell_type": "code",
   "execution_count": 46,
   "metadata": {},
   "outputs": [],
   "source": [
    "#Plotting the difference for these values"
   ]
  },
  {
   "cell_type": "code",
   "execution_count": 47,
   "metadata": {},
   "outputs": [
    {
     "data": {
      "image/png": "[encoded data removed]",
      "text/plain": [
       "<Figure size 432x288 with 1 Axes>"
      ]
     },
     "metadata": {
      "needs_background": "light"
     },
     "output_type": "display_data"
    }
   ],
   "source": [
    "model = [   \"adaboost_rand\" ,\"adaboost_grid\",\"adaboost_diff\"]   #X-axis\n",
    "Train_Time = [\n",
    "    \n",
    "    time_randomised,\n",
    "    time_grid,\n",
    "    time_diff                #diff is small in terms of value\n",
    "]\n",
    "plt.bar(model, Train_Time,color=\"grb\")    #bar plotting\n",
    "plt.xlabel('Models', fontsize=15)    #  X-labels\n",
    "plt.ylabel('Training Time', fontsize=15)   #  Y-labels\n",
    "plt.title('Comparison of Training Time ',fontsize=25)   #title\n",
    "plt.show()                 #plot figure\n"
   ]
  },
  {
   "cell_type": "code",
   "execution_count": 48,
   "metadata": {},
   "outputs": [
    {
     "name": "stdout",
     "output_type": "stream",
     "text": [
      "AUC=0.500\n",
      "ROC=0.843\n"
     ]
    },
    {
     "data": {
      "image/png": "[encoded data removed]",
      "text/plain": [
       "<Figure size 432x288 with 1 Axes>"
      ]
     },
     "metadata": {
      "needs_background": "light"
     },
     "output_type": "display_data"
    }
   ],
   "source": [
    "#PLOTTING AUC AND ROC FOR CLASSIFICATION PROBLEM \n",
    "from sklearn.metrics import roc_curve\n",
    "from sklearn.metrics import auc\n",
    "\n",
    "from matplotlib import pyplot\n",
    "from sklearn.ensemble import AdaBoostClassifier\n",
    "ada=AdaBoostClassifier()\n",
    "ada.fit(X_train,Y_train)   #training data\n",
    "\n",
    "ns_probs = [0 for _ in range(len(Y_test))]\n",
    "# fit a model\n",
    "\n",
    "# predict probabilities\n",
    "lr_probs = ada.predict_proba(X_test)\n",
    "# keep probabilities for the positive outcome only\n",
    "lr_probs = lr_probs[:, 1]\n",
    "# calculate scores\n",
    "ns_auc = roc_auc_score(Y_test, ns_probs)\n",
    "lr_auc = roc_auc_score(Y_test, lr_probs)\n",
    "# summarize scores\n",
    "print('AUC=%.3f' % (ns_auc))\n",
    "print('ROC=%.3f' % (lr_auc))\n",
    "\n",
    "# calculate roc curves\n",
    "ns_fpr, ns_tpr, _ = roc_curve(Y_test, ns_probs)\n",
    "lr_fpr, lr_tpr, _ = roc_curve(Y_test, lr_probs)\n",
    "# plot the roc curve for the model\n",
    "pyplot.plot(ns_fpr, ns_tpr, linestyle='--', label='AOC')\n",
    "pyplot.plot(lr_fpr, lr_tpr, marker='.', label='ROC')\n",
    "# axis labels\n",
    "pyplot.xlabel('False Positive Rate')\n",
    "pyplot.ylabel('True Positive Rate')\n",
    "pyplot.title(\"ADA BOOST\")\n",
    "# show the legend\n",
    "pyplot.legend()\n",
    "# show the plot\n",
    "pyplot.show()\n"
   ]
  },
  {
   "cell_type": "code",
   "execution_count": null,
   "metadata": {},
   "outputs": [],
   "source": []
  },
  {
   "cell_type": "code",
   "execution_count": null,
   "metadata": {},
   "outputs": [],
   "source": []
  },
  {
   "cell_type": "markdown",
   "metadata": {},
   "source": [
    "#GRADIENT BOOSTING"
   ]
  },
  {
   "cell_type": "code",
   "execution_count": 49,
   "metadata": {},
   "outputs": [
    {
     "data": {
      "text/plain": [
       "GradientBoostingClassifier(criterion='friedman_mse', init=None,\n",
       "              learning_rate=0.1, loss='deviance', max_depth=3,\n",
       "              max_features=None, max_leaf_nodes=None,\n",
       "              min_impurity_decrease=0.0, min_impurity_split=None,\n",
       "              min_samples_leaf=1, min_samples_split=2,\n",
       "              min_weight_fraction_leaf=0.0, n_estimators=100,\n",
       "              n_iter_no_change=None, presort='auto', random_state=None,\n",
       "              subsample=1.0, tol=0.0001, validation_fraction=0.1,\n",
       "              verbose=0, warm_start=False)"
      ]
     },
     "execution_count": 49,
     "metadata": {},
     "output_type": "execute_result"
    }
   ],
   "source": [
    "#ensemble learning works on boosting parallel learning from the errror from the \n",
    "from sklearn.ensemble import GradientBoostingClassifier\n",
    "GBC=GradientBoostingClassifier()\n",
    "GBC.fit(X_train,Y_train)   #fitting training data\n"
   ]
  },
  {
   "cell_type": "code",
   "execution_count": 50,
   "metadata": {},
   "outputs": [
    {
     "data": {
      "text/plain": [
       "array([False, False, False, False, False, False, False, False, False,\n",
       "       False])"
      ]
     },
     "execution_count": 50,
     "metadata": {},
     "output_type": "execute_result"
    }
   ],
   "source": [
    "y_pred=GBC.predict(X_train)   #prediction for the x train\n",
    "y_pred[:10]        #prediction for the 10 values"
   ]
  },
  {
   "cell_type": "code",
   "execution_count": 51,
   "metadata": {},
   "outputs": [
    {
     "data": {
      "text/plain": [
       "86.50306748466258"
      ]
     },
     "execution_count": 51,
     "metadata": {},
     "output_type": "execute_result"
    }
   ],
   "source": [
    "accuracy_score(Y_train,y_pred)*100                 #acuuracy"
   ]
  },
  {
   "cell_type": "code",
   "execution_count": 52,
   "metadata": {},
   "outputs": [],
   "source": [
    "\n",
    "from sklearn.ensemble import GradientBoostingClassifier\n",
    "\n",
    "from sklearn.model_selection import GridSearchCV\n",
    "est=GradientBoostingClassifier()  \n",
    "from scipy.stats import randint\n",
    "parameters={\n",
    "    'learning_rate':[0.15,0.1,0.05,0.01,0.005,0.001],       #rate of learning for assigning optimal local iinima \n",
    "    \"max_depth\":[1,3,5,7,9],                                   #assigning depth for the trees\n",
    "    'n_estimators':[100,250,500,750,1000,1250,1500,1750]}             #assigning valies for theom of trees\n",
    "#combinations 6*5*8=240 combinantions\n",
    "grid_search = GridSearchCV(estimator = est,\n",
    "                           param_grid = parameters,\n",
    "                           scoring = 'accuracy',\n",
    "                           cv = 5,\n",
    "                           n_jobs = -1)"
   ]
  },
  {
   "cell_type": "code",
   "execution_count": 53,
   "metadata": {},
   "outputs": [
    {
     "name": "stdout",
     "output_type": "stream",
     "text": [
      "Accuracy for the training Gradient descent : 86.50306748466258\n",
      "Accuracy for the testing Gradient descent : 86.78038379530916\n"
     ]
    }
   ],
   "source": [
    "grid_search = grid_search.fit(X_test, Y_test)    #fitting data\n",
    "print(\"Accuracy for the training Gradient descent :\",accuracy_score(Y_train,y_pred)*100)\n",
    "print(\"Accuracy for the testing Gradient descent :\",accuracy_score(Y_test,y_pred1)*100)"
   ]
  },
  {
   "cell_type": "code",
   "execution_count": 166,
   "metadata": {},
   "outputs": [
    {
     "name": "stdout",
     "output_type": "stream",
     "text": [
      "AUC=0.500\n",
      "ROC=0.847\n"
     ]
    },
    {
     "data": {
      "image/png": "[encoded data removed]",
      "text/plain": [
       "<Figure size 432x288 with 1 Axes>"
      ]
     },
     "metadata": {
      "needs_background": "light"
     },
     "output_type": "display_data"
    }
   ],
   "source": [
    "#PLOTTING AUC AND ROC FOR CLASSIFICATION PROBLEM \n",
    "from sklearn.metrics import roc_curve\n",
    "from sklearn.metrics import auc\n",
    "\n",
    "from matplotlib import pyplot\n",
    "from sklearn.ensemble import AdaBoostClassifier\n",
    "ada=AdaBoostClassifier()\n",
    "ada.fit(X_train,Y_train)   #training data\n",
    "\n",
    "ns_probs = [0 for _ in range(len(Y_test))]\n",
    "# fit a model\n",
    "#ensemble learning works on boosting parallel learning from the errror from the \n",
    "from sklearn.ensemble import GradientBoostingClassifier\n",
    "GBC=GradientBoostingClassifier()\n",
    "GBC.fit(X_train,Y_train)   #fitting training data\n",
    "\n",
    "# predict probabilities\n",
    "lr_probs = GBC.predict_proba(X_test)\n",
    "# keep probabilities for the positive outcome only\n",
    "lr_probs = lr_probs[:, 1]\n",
    "# calculate scores\n",
    "ns_auc = roc_auc_score(Y_test, ns_probs)\n",
    "lr_auc = roc_auc_score(Y_test, lr_probs)\n",
    "# summarize scores\n",
    "print('AUC=%.3f' % (ns_auc))\n",
    "print('ROC=%.3f' % (lr_auc))\n",
    "\n",
    "# calculate roc curves\n",
    "ns_fpr, ns_tpr, _ = roc_curve(Y_test, ns_probs)\n",
    "lr_fpr, lr_tpr, _ = roc_curve(Y_test, lr_probs)\n",
    "# plot the roc curve for the model\n",
    "pyplot.plot(ns_fpr, ns_tpr, linestyle='--', label='AOC')\n",
    "pyplot.plot(lr_fpr, lr_tpr, marker='.', label='ROC')\n",
    "# axis labels\n",
    "pyplot.xlabel('False Positive Rate')\n",
    "pyplot.ylabel('True Positive Rate')\n",
    "pyplot.title(\"GRADIENT BOOSTING\")\n",
    "# show the legend\n",
    "pyplot.legend()\n",
    "# show the plot\n",
    "pyplot.show()\n"
   ]
  },
  {
   "cell_type": "code",
   "execution_count": null,
   "metadata": {},
   "outputs": [],
   "source": []
  },
  {
   "cell_type": "code",
   "execution_count": null,
   "metadata": {},
   "outputs": [],
   "source": []
  },
  {
   "cell_type": "code",
   "execution_count": null,
   "metadata": {},
   "outputs": [],
   "source": []
  },
  {
   "cell_type": "code",
   "execution_count": null,
   "metadata": {},
   "outputs": [],
   "source": []
  },
  {
   "cell_type": "code",
   "execution_count": null,
   "metadata": {},
   "outputs": [],
   "source": [
    "#XGBOOST  BEST MODEL"
   ]
  },
  {
   "cell_type": "code",
   "execution_count": 52,
   "metadata": {},
   "outputs": [
    {
     "data": {
      "text/plain": [
       "XGBClassifier(base_score=0.5, booster='gbtree', colsample_bylevel=1,\n",
       "       colsample_bynode=1, colsample_bytree=1, gamma=0, learning_rate=0.1,\n",
       "       max_delta_step=0, max_depth=3, min_child_weight=1, missing=None,\n",
       "       n_estimators=100, n_jobs=1, nthread=None,\n",
       "       objective='binary:logistic', random_state=0, reg_alpha=0,\n",
       "       reg_lambda=1, scale_pos_weight=1, seed=None, silent=None,\n",
       "       subsample=1, verbosity=1)"
      ]
     },
     "execution_count": 52,
     "metadata": {},
     "output_type": "execute_result"
    }
   ],
   "source": [
    "from xgboost import XGBClassifier\n",
    "xgb = XGBClassifier()\n",
    "xgb.fit(X_train,Y_train)\n"
   ]
  },
  {
   "cell_type": "code",
   "execution_count": 53,
   "metadata": {},
   "outputs": [
    {
     "name": "stdout",
     "output_type": "stream",
     "text": [
      "The train accuracy of the random forest randizedtuned: 86.02293945052014\n",
      "The test accuracy of the random forest randizedtuned: 86.78038379530916\n"
     ]
    }
   ],
   "source": [
    "#fitting data\n",
    "#prediction for training data\n",
    "#prediction for testing data\n",
    "y_pred=claasifier_tune.predict(X_train)\n",
    "y_pred1=claasifier_tune.predict(X_test)\n",
    "print(\"The train accuracy of the random forest randizedtuned:\",accuracy_score(Y_train,y_pred)*100)\n",
    "print(\"The test accuracy of the random forest randizedtuned:\",accuracy_score(Y_test,y_pred1)*100)\n",
    "\n"
   ]
  },
  {
   "cell_type": "code",
   "execution_count": 55,
   "metadata": {},
   "outputs": [],
   "source": [
    "#prediction for XG boost\n",
    "y_pred = xgb.predict(X_train)                  #prediction for the training data\n",
    "y_pred[:20]                                     #predction for the first 20 values\n",
    "\n",
    "from xgb import XGBClassifier\n",
    "\n",
    "from sklearn.model_selection import RandomizedSearchCV\n",
    "#RandomizedSearchCV-tuning approach which works on sample of the dataset\n",
    "from scipy.stats import randint  #for random integer values\n",
    "\n",
    "est =XGBClassifier()\n",
    "rf_p_dist={\n",
    "    'subsample':[0.8,0.2,0.5,0.4,0.36],                        \n",
    "    'min_child_weight':[5,10,15,4,2],\n",
    "    'max_depth':[1,2,3,5,4],\n",
    "    'gamma':[0.1,0.2,0.5,0.60,0.8,0.91]\n",
    "}\n",
    "def hypertuning_grid(est, rf_p_dist, nbr_iter,X_train,Y_train):\n",
    "    rdmsearch = RandomizedSearchCV(est, param_distributions=rf_p_dist,\n",
    "                                  n_jobs=-1, n_iter=nbr_iter, cv=15)\n",
    "    rdmsearch.fit(X_train,Y_train)                  #fitting data\n",
    "    ht_params = rdmsearch.best_params_             #best paramter\n",
    "    ht_score = rdmsearch.best_score_                     #best scorer\n",
    "    return ht_params, ht_score                      #returning values for the best accuracy and the best paprmeters\n",
    "\n"
   ]
  },
  {
   "cell_type": "code",
   "execution_count": 61,
   "metadata": {},
   "outputs": [
    {
     "name": "stdout",
     "output_type": "stream",
     "text": [
      "best parameters  : {'subsample': 0.8, 'min_child_weight': 4, 'max_depth': 2, 'gamma': 0.91}\n",
      "best scorer  : 88.64950653507603\n"
     ]
    }
   ],
   "source": [
    "\n",
    "rf_parameters, rf_ht_score = hypertuning_rscv(est, rf_p_dist, 15, X_train, Y_train)\n",
    "#classifier,iteartions,ttraining data\n",
    "rf_parameters\n",
    "print(\"best parameters  :\",rf_parameters)\n",
    "print(\"best scorer  :\",rf_ht_score*100)\n"
   ]
  },
  {
   "cell_type": "code",
   "execution_count": 169,
   "metadata": {},
   "outputs": [
    {
     "name": "stdout",
     "output_type": "stream",
     "text": [
      "AUC=0.500\n",
      "ROC=0.842\n"
     ]
    },
    {
     "data": {
      "image/png": "[encoded data removed]",
      "text/plain": [
       "<Figure size 432x288 with 1 Axes>"
      ]
     },
     "metadata": {
      "needs_background": "light"
     },
     "output_type": "display_data"
    }
   ],
   "source": [
    "#PLOTTING AUC AND ROC FOR CLASSIFICATION PROBLEM \n",
    "from sklearn.metrics import roc_curve\n",
    "from sklearn.metrics import auc\n",
    "\n",
    "from matplotlib import pyplot\n",
    "ns_probs = [0 for _ in range(len(Y_test))]\n",
    "# fit a model\n",
    "#ensemble learning works on boosting parallel learning from the errror from the \n",
    "from xgboost import XGBClassifier\n",
    "xgb = XGBClassifier()\n",
    "xgb.fit(X_train,Y_train)\n",
    "\n",
    "# predict probabilities\n",
    "lr_probs = xgb.predict_proba(X_test)\n",
    "# keep probabilities for the positive outcome only\n",
    "lr_probs = lr_probs[:, 1]\n",
    "# calculate scores\n",
    "ns_auc = roc_auc_score(Y_test, ns_probs)\n",
    "lr_auc = roc_auc_score(Y_test, lr_probs)\n",
    "# summarize scores\n",
    "print('AUC=%.3f' % (ns_auc))\n",
    "print('ROC=%.3f' % (lr_auc))\n",
    "\n",
    "# calculate roc curves\n",
    "ns_fpr, ns_tpr, _ = roc_curve(Y_test, ns_probs)\n",
    "lr_fpr, lr_tpr, _ = roc_curve(Y_test, lr_probs)\n",
    "# plot the roc curve for the model\n",
    "pyplot.plot(ns_fpr, ns_tpr, linestyle='--', label='AOC')\n",
    "pyplot.plot(lr_fpr, lr_tpr, marker='.', label='ROC')\n",
    "# axis labels\n",
    "pyplot.xlabel('False Positive Rate')\n",
    "pyplot.ylabel('True Positive Rate')\n",
    "pyplot.title(\"XG BOOST\")\n",
    "# show the legend\n",
    "pyplot.legend()\n",
    "# show the plot\n",
    "pyplot.show()\n"
   ]
  },
  {
   "cell_type": "code",
   "execution_count": null,
   "metadata": {},
   "outputs": [],
   "source": [
    "#Bagging Fot\n",
    "from sklearn.ensemble import BaggingClassifier\n",
    "from sklearn.neighbors import KNeighborsClassifier\n",
    "bagging = BaggingClassifier(KNeighborsClassifier(n_neighbors=11),\n",
    "                            max_samples=0.9, max_features=2)\n",
    "bagging.fit(X_train, Y_train)\n",
    "\n",
    "\n",
    "from sklearn.metrics import accuracy_score\n",
    "# Predict using 10-NN Classifier\n",
    "a=accuracy_score(Y_test,y_pred)*100\n",
    "y_pred = bagging.predict(X_test)\n",
    "y_pred[:20]\n",
    "print(a)"
   ]
  },
  {
   "cell_type": "code",
   "execution_count": 171,
   "metadata": {},
   "outputs": [
    {
     "data": {
      "image/png": "[encoded data removed]",
      "text/plain": [
       "<Figure size 432x288 with 1 Axes>"
      ]
     },
     "metadata": {
      "needs_background": "light"
     },
     "output_type": "display_data"
    }
   ],
   "source": [
    "\n",
    "#Bar plot for training data\n",
    "fig = plt.figure()  #creating anew figure\n",
    "ax = fig.add_axes([0,0,1,1])#width,height\n",
    "Algorithms = ['logistic regression','naive bayes','decision tree','Svm','knn','ada boost','Random_tree_cv','Random_tree_tuning','GradientBoosting']\n",
    "accuracy = [84.2,82.5,84.648,85.382,82.3,87.409,85.463,86.567,87.803]\n",
    "ax.barh(Algorithms,accuracy,color='rbgy')                  #horizontal bargraph with color\n",
    "\n",
    "plt.title(\"model vs accuracy\",fontsize=25)           #label of title\n",
    "plt.xlabel(\"Algorithms\",fontsize=20)                       #X label\n",
    "plt.ylabel(\"Accuracy\",fontsize=20)                             #Y label\n",
    "plt.show()                                                     #creating plot"
   ]
  },
  {
   "cell_type": "code",
   "execution_count": 173,
   "metadata": {},
   "outputs": [
    {
     "name": "stdout",
     "output_type": "stream",
     "text": [
      "AxesImage(54,36;334.8x217.44)\n",
      "AxesImage(54,36;334.8x217.44)\n",
      "AxesImage(54,36;334.8x217.44)\n",
      "AxesImage(54,36;334.8x217.44)\n",
      "AxesImage(54,36;334.8x217.44)\n",
      "AxesImage(54,36;334.8x217.44)\n"
     ]
    },
    {
     "data": {
      "image/png": "[encoded data removed]",
      "text/plain": [
       "<Figure size 432x288 with 1 Axes>"
      ]
     },
     "metadata": {
      "needs_background": "light"
     },
     "output_type": "display_data"
    }
   ],
   "source": [
    "#Saving all the images and then used in if andd else loop \n",
    "import cv2\n",
    "#reading the images in the form of arrays\n",
    "img = cv2.imread('knn1.png')\n",
    "img1 = cv2.imread('knn2.png')\n",
    "img2 = cv2.imread('svc1.png')\n",
    "img3 = cv2.imread('svc2.png')\n",
    "img4 = cv2.imread('ADA.png')\n",
    "img5 = cv2.imread('Models.png')\n",
    "img6 = cv2.imread('xgB.png')\n",
    "#plotting the images in the png format\n",
    "plt.imshow(img)\n",
    "plt.imshow(img1)\n",
    "plt.imshow(img2)\n",
    "plt.imshow(img3)\n",
    "plt.imshow(img4)\n",
    "plt.imshow(img5)\n",
    "plt.imshow(img6)\n",
    "print(plt.imshow(img5))\n",
    "\n",
    "print(plt.imshow(img4))\n",
    "print(plt.imshow(img))\n",
    "print(plt.imshow(img2))\n",
    "print(plt.imshow(img1))\n",
    "\n",
    "print(plt.imshow(img3))"
   ]
  },
  {
   "cell_type": "code",
   "execution_count": 2,
   "metadata": {},
   "outputs": [
    {
     "name": "stdout",
     "output_type": "stream",
     "text": [
      "PRESS KEY\n",
      "1.KNN for featuere selection of K \n",
      "2.KNN for CROSS VALIDATION \n",
      "3.KNN CAMPARE CROSS VALIDATION VS ACCUARCY OF THE BEST K VALUE\n",
      "4.SVC ACCURACY FOR TRANING AND TESTING ACCURACY\n",
      "5.SVC CROSS VALIDATION AND HYPERPLANE:\n",
      "6.Random forest randizedtuned\n",
      "7.Random forest accuracy,precesion,recall\n",
      "8.Time of random and grid searchCV and accuracy\n",
      "9.Comparing the time of tuning methods and plotting graph\n",
      "10.Models ACCUARCY\n",
      "11.Xg boost acuuracy with tuning1\n",
      "KNN\n"
     ]
    },
    {
     "ename": "NameError",
     "evalue": "name 'mean_acc' is not defined",
     "output_type": "error",
     "traceback": [
      "\u001b[1;31m---------------------------------------------------------------------------\u001b[0m",
      "\u001b[1;31mNameError\u001b[0m                                 Traceback (most recent call last)",
      "\u001b[1;32m<ipython-input-2-833e7f7d42d2>\u001b[0m in \u001b[0;36m<module>\u001b[1;34m\u001b[0m\n\u001b[0;32m      4\u001b[0m \u001b[1;32mif\u001b[0m \u001b[0mclassifier_search\u001b[0m\u001b[1;33m==\u001b[0m \u001b[1;36m1\u001b[0m\u001b[1;33m:\u001b[0m\u001b[1;33m\u001b[0m\u001b[1;33m\u001b[0m\u001b[0m\n\u001b[0;32m      5\u001b[0m     \u001b[0mprint\u001b[0m\u001b[1;33m(\u001b[0m\u001b[1;34m\"KNN\"\u001b[0m\u001b[1;33m)\u001b[0m\u001b[1;33m\u001b[0m\u001b[1;33m\u001b[0m\u001b[0m\n\u001b[1;32m----> 6\u001b[1;33m     \u001b[0mprint\u001b[0m\u001b[1;33m(\u001b[0m\u001b[1;34m\"For the values k=9 to k=1:\"\u001b[0m\u001b[1;33m,\u001b[0m\u001b[0mmean_acc\u001b[0m\u001b[1;33m)\u001b[0m\u001b[1;33m\u001b[0m\u001b[1;33m\u001b[0m\u001b[0m\n\u001b[0m\u001b[0;32m      7\u001b[0m \u001b[1;33m\u001b[0m\u001b[0m\n\u001b[0;32m      8\u001b[0m     \u001b[0mprint\u001b[0m\u001b[1;33m(\u001b[0m\u001b[0mplt\u001b[0m\u001b[1;33m.\u001b[0m\u001b[0mimshow\u001b[0m\u001b[1;33m(\u001b[0m\u001b[0mimg\u001b[0m\u001b[1;33m)\u001b[0m\u001b[1;33m)\u001b[0m\u001b[1;33m\u001b[0m\u001b[1;33m\u001b[0m\u001b[0m\n",
      "\u001b[1;31mNameError\u001b[0m: name 'mean_acc' is not defined"
     ]
    }
   ],
   "source": [
    "#Enter the name of classifier and then check the value for it\n",
    "classifier_search = int(input('PRESS KEY\\n1.KNN for featuere selection of K \\n2.KNN for CROSS VALIDATION \\n3.KNN CAMPARE CROSS VALIDATION VS ACCUARCY OF THE BEST K VALUE\\n4.SVC ACCURACY FOR TRANING AND TESTING ACCURACY\\n5.SVC CROSS VALIDATION AND HYPERPLANE:\\n6.Random forest randizedtuned\\n7.Random forest accuracy,precesion,recall\\n8.Time of random and grid searchCV and accuracy\\n9.Comparing the time of tuning methods and plotting graph\\n10.Models ACCUARCY\\n11.Xg boost acuuracy with tuning')) \n",
    "\n",
    "if classifier_search== 1: \n",
    "    print(\"KNN\")\n",
    "    print(\"For the values k=9 to k=1:\",mean_acc)\n",
    "\n",
    "    print(plt.imshow(img))\n",
    "\n",
    "elif classifier_search==2: \n",
    "    print(\"Croos validation score for Cv=10 for 10 values of k\",score)\n",
    "    print(\"Croos validation score for Cv=10 for 10 values of k mean\",score.mean())\n",
    "    print(plt.imshow(img1))\n",
    "\n",
    "elif classifier_search==3:\n",
    "    print(\"The best accuracy of k is 2    k=2 & its acuuracy value is 84.482\")\n",
    "    print(\"Accuracy with K-NN and K-FOLD CROSS VALIDATION: %0.2f     STD--> (+/- %f)\" % (score.mean()*100, score.std() *2))\n",
    "    print(\"Switch to other model\")\n",
    "    \n",
    "elif classifier_search==4:\n",
    "\n",
    "    print(\"training accuracy for SVC:\",accuracy_score(Y_train,y_pred))\n",
    "    print(\"test accuracy  for SVC   :\",accuracy_score(Y_test,y_pred1))    \n",
    "    print(\"The 3d plot of the SVC  \",plt.imshow(img2))\n",
    "elif classifier_search==5:\n",
    "    print(\"The hyperplane of the points  SVC(3-D)  \",plt.imshow(img3))\n",
    "    print(report)\n",
    "    print(\"The accuracy of the SVM will be:\",accuracy_score(Y_train,y_pred))\n",
    "\n",
    "elif classifier_search==6:    \n",
    "    print(\" RANDOM FOREST TUNED \")\n",
    "    print(\"The train accuracy of the random forest randizedtuned:\",accuracy_score(Y_train,y_pred)*100)\n",
    "    print(\"The test accuracy of the random forest randizedtuned:\",accuracy_score(Y_test,y_pred1)*100)\n",
    "\n",
    "elif classifier_search==7:\n",
    "\n",
    "    print(\"The value of training data for 10 values:\")\n",
    "    print(cross_val)\n",
    "    print(\"  The value of training data mean:\",cross_val.mean()*100)\n",
    "    print(\" \")\n",
    "    print(\" \")\n",
    "    print(\"The value of training data for 10 values of precsion:\")\n",
    "    print(cross_val1)\n",
    "    print(\"  The value of training data mean:\",cross_val1.mean()*100)\n",
    "    print(\" \")\n",
    "    print(\" \")\n",
    "    print(\"The value of training data for 10 values of recall:\")\n",
    "    print(cross_val2)\n",
    "    print(\"  The value of training data mean:\",cross_val2.mean()*100)\n",
    "    \n",
    "elif classifier_search==8:\n",
    "    \n",
    "    print(\"train_time_ada_rand_tune  :\",train_time_adatune)\n",
    "    print(\"accuracy of training data \",rf_ht_score_ran*100)\n",
    "    print(\"train_ada_grid\",train_aadagrid)\n",
    "    print(\"Accuracy of the training ada boost gridsearch for each value\",accuracy*100)\n",
    "    \n",
    "elif classifier_search==9:\n",
    "    \n",
    "    print(\"Accuracy of the training ada boost gridsearch    : 86.70944251800479\")\n",
    "    print(\"accuracy of training data  for ada Ransearch_cv  :\"  ,rf_ht_score_ran*100)\n",
    "    print(\"Bar plot for the differnece in the time \")\n",
    "    print(plt.imshow(img4))\n",
    "        \n",
    "\n",
    "elif classifier_search==10:\n",
    "    print(\"HERE ARE THE DIFFERENT MODELS AND THERE ACCURACY \")\n",
    "    print(plt.imshow(img5))\n",
    "elif classifier_search==11:\n",
    "    print(\"Accuracy of the training xgboost random search : 88.36  \")\n",
    "    \n",
    "else :\n",
    "    print(\"\\t                                            Wrong Input Value\")\n",
    "    print(\"                                          Enter value lies betwwen 1 to 10 \")\n",
    "    print(\"\")\n"
   ]
  },
  {
   "cell_type": "markdown",
   "metadata": {},
   "source": []
  },
  {
   "cell_type": "code",
   "execution_count": null,
   "metadata": {},
   "outputs": [],
   "source": []
  },
  {
   "cell_type": "markdown",
   "metadata": {},
   "source": [
    "#DEEP LEARNING \n"
   ]
  },
  {
   "cell_type": "markdown",
   "metadata": {},
   "source": [
    "\n",
    "Now,then we go for the deep learning part  -->ANN(Artifical Neural Networks)\n",
    "\n",
    "HERE ARE THE STEPS:\n",
    "Weight are assigned at each layer of neural network\n",
    "Forward propogation takes place by assigning weight and \n",
    "then applying activation function from input values to the end of hidden layer and\n",
    "Evaluating the predicted dependent variable with the actual dependent variable\n",
    "Evaluating of output of input layer to hidden layer\n",
    "Evaluating of output of hidden layer to output layer\n",
    "Evaluating of Error\n",
    "Then reassigning the optimal weights for the same neural networks through Backpropgation\n",
    "Until the cost function of it not be in Decreases further.                             '''"
   ]
  },
  {
   "cell_type": "code",
   "execution_count": null,
   "metadata": {},
   "outputs": [],
   "source": [
    "#USE ANN method For the dataset to compute more accuracy in terms of count\n",
    "#install library\n",
    "import keras \n",
    "from keras.models import Sequential\n",
    "from keras.layers import Dense\n",
    "\n",
    "#Initalizing the Ann\n",
    "\n",
    "#Making the prediction model test and results\n",
    "classifier=Sequential()\n",
    "#adding the firstinput layer and the first hidden layers in the neural\n",
    "classifier.add(Dense(output_dim=5,init=\"uniform\",Activation=\"relu\",input_dim=2))\n",
    "#As, deep learning is consist of  all the input,hidden,output layers where hidden layers are more for better acauuracy in terms\n",
    "#of actual nad predicted so we can end with this layer but more better undersatnding we keep adding of the layers\n",
    "\n",
    "#adding second hidden layer\n",
    "classifier.add(Dense(output_dim=2,init=\"uniform\",Activation=\"relu\"))\n",
    "\n",
    "#making the final layer output layer where ewe use sigmoid function we will have prbability for the 0 or 1\n",
    "\n",
    "classifier.add(Dense(output_dim=1,init=\"uniform\",Activation=\"sigmoid\"))\n",
    "# if we have more than 2 catequiers in the dependent function we will have tochnage sigmoid to shift-max and also out_deim\n",
    "\n",
    "#prediction from the actual ones.\n",
    "classifier.compile(optimizer=\"adam\",loss=\"binary_crossentropy\",metrices=['accuracy'])   #metrices we wnat fot precision of TP\n",
    "\n",
    "\n",
    "#to choose the epox at each round\n",
    "#A epoch here is process a complete visit of forward and backward propgation once.  \n",
    "classifier.fit(X_train,Y_train,batch_size=10,nb_epoch=100)   \n",
    "\n",
    "#prediction of the classifier\n",
    "y_pred=classifier(X_test)\n",
    "y_pred= (y_pred>0.5)  # assigninhg threshold value to it genearlly we shold take value 0.65\n",
    "#confusion matricx,accuracy\n",
    "from sklearn.metrics import confusion_metrics\n",
    "from sklearn.metrics import accuracy_score\n",
    "cm=confusion_metrics(Y_train,y_pred)\n",
    "accuracy_score(Y_train, y_pred)\n"
   ]
  },
  {
   "cell_type": "code",
   "execution_count": null,
   "metadata": {},
   "outputs": [],
   "source": []
  },
  {
   "cell_type": "code",
   "execution_count": null,
   "metadata": {},
   "outputs": [],
   "source": []
  },
  {
   "cell_type": "code",
   "execution_count": null,
   "metadata": {},
   "outputs": [],
   "source": []
  },
  {
   "cell_type": "code",
   "execution_count": null,
   "metadata": {},
   "outputs": [],
   "source": []
  },
  {
   "cell_type": "code",
   "execution_count": null,
   "metadata": {},
   "outputs": [],
   "source": []
  },
  {
   "cell_type": "code",
   "execution_count": null,
   "metadata": {},
   "outputs": [],
   "source": []
  },
  {
   "cell_type": "code",
   "execution_count": null,
   "metadata": {
    "scrolled": true
   },
   "outputs": [],
   "source": []
  },
  {
   "cell_type": "code",
   "execution_count": null,
   "metadata": {},
   "outputs": [],
   "source": []
  },
  {
   "cell_type": "code",
   "execution_count": null,
   "metadata": {},
   "outputs": [],
   "source": []
  },
  {
   "cell_type": "code",
   "execution_count": 1,
   "metadata": {},
   "outputs": [],
   "source": []
  },
  {
   "cell_type": "code",
   "execution_count": null,
   "metadata": {},
   "outputs": [],
   "source": []
  },
  {
   "cell_type": "code",
   "execution_count": null,
   "metadata": {},
   "outputs": [],
   "source": []
  },
  {
   "cell_type": "code",
   "execution_count": null,
   "metadata": {},
   "outputs": [],
   "source": []
  },
  {
   "cell_type": "code",
   "execution_count": null,
   "metadata": {},
   "outputs": [],
   "source": []
  },
  {
   "cell_type": "code",
   "execution_count": null,
   "metadata": {},
   "outputs": [],
   "source": []
  },
  {
   "cell_type": "code",
   "execution_count": null,
   "metadata": {},
   "outputs": [],
   "source": []
  },
  {
   "cell_type": "code",
   "execution_count": null,
   "metadata": {},
   "outputs": [],
   "source": []
  },
  {
   "cell_type": "code",
   "execution_count": null,
   "metadata": {},
   "outputs": [],
   "source": []
  },
  {
   "cell_type": "code",
   "execution_count": null,
   "metadata": {},
   "outputs": [],
   "source": []
  },
  {
   "cell_type": "code",
   "execution_count": null,
   "metadata": {},
   "outputs": [],
   "source": []
  },
  {
   "cell_type": "code",
   "execution_count": null,
   "metadata": {},
   "outputs": [],
   "source": []
  },
  {
   "cell_type": "code",
   "execution_count": null,
   "metadata": {},
   "outputs": [],
   "source": []
  },
  {
   "cell_type": "code",
   "execution_count": 1,
   "metadata": {},
   "outputs": [],
   "source": []
  },
  {
   "cell_type": "code",
   "execution_count": null,
   "metadata": {},
   "outputs": [],
   "source": []
  },
  {
   "cell_type": "code",
   "execution_count": 36,
   "metadata": {},
   "outputs": [],
   "source": []
  },
  {
   "cell_type": "code",
   "execution_count": null,
   "metadata": {},
   "outputs": [],
   "source": []
  },
  {
   "cell_type": "code",
   "execution_count": null,
   "metadata": {},
   "outputs": [],
   "source": []
  },
  {
   "cell_type": "code",
   "execution_count": null,
   "metadata": {},
   "outputs": [],
   "source": []
  },
  {
   "cell_type": "code",
   "execution_count": null,
   "metadata": {},
   "outputs": [],
   "source": []
  },
  {
   "cell_type": "code",
   "execution_count": null,
   "metadata": {},
   "outputs": [],
   "source": []
  }
 ],
 "metadata": {
  "kernelspec": {
   "display_name": "Python 3",
   "language": "python",
   "name": "python3"
  },
  "language_info": {
   "codemirror_mode": {
    "name": "ipython",
    "version": 3
   },
   "file_extension": ".py",
   "mimetype": "text/x-python",
   "name": "python",
   "nbconvert_exporter": "python",
   "pygments_lexer": "ipython3",
   "version": "3.7.3"
  }
 },
 "nbformat": 4,
 "nbformat_minor": 2
}
